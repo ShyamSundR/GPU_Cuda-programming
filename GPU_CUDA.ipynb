{
  "cells": [
    {
      "cell_type": "markdown",
      "metadata": {
        "id": "n17S-aOBHWlO"
      },
      "source": [
        "#  GPU CUDA Programming\n",
        "\n"
      ]
    },
    {
      "cell_type": "code",
      "execution_count": null,
      "metadata": {
        "colab": {
          "base_uri": "https://localhost:8080/"
        },
        "id": "OtTmgmYEHWlP",
        "outputId": "83a67134-161c-43a6-ebbb-ee771e297ecb"
      },
      "outputs": [
        {
          "output_type": "stream",
          "name": "stdout",
          "text": [
            "Sun Mar 17 19:28:08 2024       \n",
            "+---------------------------------------------------------------------------------------+\n",
            "| NVIDIA-SMI 535.104.05             Driver Version: 535.104.05   CUDA Version: 12.2     |\n",
            "|-----------------------------------------+----------------------+----------------------+\n",
            "| GPU  Name                 Persistence-M | Bus-Id        Disp.A | Volatile Uncorr. ECC |\n",
            "| Fan  Temp   Perf          Pwr:Usage/Cap |         Memory-Usage | GPU-Util  Compute M. |\n",
            "|                                         |                      |               MIG M. |\n",
            "|=========================================+======================+======================|\n",
            "|   0  Tesla T4                       Off | 00000000:00:04.0 Off |                    0 |\n",
            "| N/A   66C    P8              10W /  70W |      0MiB / 15360MiB |      0%      Default |\n",
            "|                                         |                      |                  N/A |\n",
            "+-----------------------------------------+----------------------+----------------------+\n",
            "                                                                                         \n",
            "+---------------------------------------------------------------------------------------+\n",
            "| Processes:                                                                            |\n",
            "|  GPU   GI   CI        PID   Type   Process name                            GPU Memory |\n",
            "|        ID   ID                                                             Usage      |\n",
            "|=======================================================================================|\n",
            "|  No running processes found                                                           |\n",
            "+---------------------------------------------------------------------------------------+\n"
          ]
        }
      ],
      "source": [
        "!nvidia-smi"
      ]
    },
    {
      "cell_type": "markdown",
      "metadata": {
        "id": "vmS-6QZdHWlP"
      },
      "source": [
        "The GPU compiler for c++ from Nvidia is called `nvcc`, and is already installed on Colab."
      ]
    },
    {
      "cell_type": "code",
      "execution_count": null,
      "metadata": {
        "colab": {
          "base_uri": "https://localhost:8080/"
        },
        "id": "4hDJCtnGHWlP",
        "outputId": "939352b4-4598-49cf-8932-fc50bcea726e"
      },
      "outputs": [
        {
          "output_type": "stream",
          "name": "stdout",
          "text": [
            "nvcc: NVIDIA (R) Cuda compiler driver\n",
            "Copyright (c) 2005-2023 NVIDIA Corporation\n",
            "Built on Tue_Aug_15_22:02:13_PDT_2023\n",
            "Cuda compilation tools, release 12.2, V12.2.140\n",
            "Build cuda_12.2.r12.2/compiler.33191640_0\n"
          ]
        }
      ],
      "source": [
        "!nvcc --version"
      ]
    },
    {
      "cell_type": "markdown",
      "metadata": {
        "id": "uHVR6mJPHWlP"
      },
      "source": [
        "## Vector Add\n",
        "\n",
        "\n",
        "\n",
        "\n",
        "The example file `vector_add.cu` implements the vector addition using 64K threads with CUDA programming."
      ]
    },
    {
      "cell_type": "code",
      "execution_count": null,
      "metadata": {
        "colab": {
          "base_uri": "https://localhost:8080/"
        },
        "id": "Z5sAb_VfHWlP",
        "outputId": "222358a7-0d44-44ce-ca40-8f29a67c0cde"
      },
      "outputs": [
        {
          "output_type": "stream",
          "name": "stdout",
          "text": [
            "Writing vector_add.cu\n"
          ]
        }
      ],
      "source": [
        "%%writefile vector_add.cu\n",
        "#include <stdlib.h>\n",
        "#include <stdio.h>\n",
        "#include <time.h>\n",
        "\n",
        "#define size 65536\n",
        "\n",
        "__global__ void vector_add(int *A, int *B, int *C) {\n",
        "    int my_id = blockIdx.x * blockDim.x + threadIdx.x;\n",
        "    C[my_id] = A[my_id] + B[my_id];\n",
        "}\n",
        "\n",
        "int main() {\n",
        "    int i;\n",
        "    int *A = (int *)malloc(sizeof(int) * size);\n",
        "    int *B = (int *)malloc(sizeof(int) * size);\n",
        "    int *C = (int *)malloc(sizeof(int) * size);\n",
        "\n",
        "    for (i = 0; i < size; i++) {\n",
        "        A[i] = 1;\n",
        "        B[i] = 2;\n",
        "    }\n",
        "\n",
        "    int *gpu_A, *gpu_B, *gpu_C;\n",
        "    cudaMalloc((void **)&gpu_A, sizeof(int) * size);\n",
        "    cudaMalloc((void **)&gpu_B, sizeof(int) * size);\n",
        "    cudaMalloc((void **)&gpu_C, sizeof(int) * size);\n",
        "\n",
        "    struct timespec start, stop;\n",
        "    double time;\n",
        "\n",
        "    cudaMemcpy(gpu_A, A, sizeof(int) * size, cudaMemcpyHostToDevice);\n",
        "    cudaMemcpy(gpu_B, B, sizeof(int) * size, cudaMemcpyHostToDevice);\n",
        "\n",
        "    dim3 dimGrid(64);\n",
        "    dim3 dimBlock(1024);\n",
        "\n",
        "    if (clock_gettime(CLOCK_REALTIME, &start) == -1) {\n",
        "        perror(\"clock gettime\");\n",
        "    }\n",
        "    vector_add<<<dimGrid, dimBlock>>>(gpu_A, gpu_B, gpu_C);\n",
        "    cudaMemcpy(C, gpu_C, sizeof(int) * size, cudaMemcpyDeviceToHost);\n",
        "\n",
        "    if (clock_gettime(CLOCK_REALTIME, &stop) == -1) {\n",
        "        perror(\"clock gettime\");\n",
        "    }\n",
        "    time = (stop.tv_sec - start.tv_sec) + (double)(stop.tv_nsec - start.tv_nsec) / 1e9;\n",
        "\n",
        "    printf(\"Execution time = %f sec\\n\", time);\n",
        "\n",
        "    for (i = 0; i < 10; i++) {\n",
        "        printf(\"C[%d]=%d \", i, C[i]);\n",
        "    }\n",
        "\n",
        "    free(A);\n",
        "    free(B);\n",
        "    free(C);\n",
        "    cudaFree(gpu_A);\n",
        "    cudaFree(gpu_B);\n",
        "    cudaFree(gpu_C);\n",
        "    return 0;\n",
        "}"
      ]
    },
    {
      "cell_type": "code",
      "execution_count": null,
      "metadata": {
        "colab": {
          "base_uri": "https://localhost:8080/"
        },
        "id": "GIR1cxuGHWlQ",
        "outputId": "f5e73dfd-c5c3-4df6-a11f-291b818afe0e"
      },
      "outputs": [
        {
          "output_type": "stream",
          "name": "stdout",
          "text": [
            "Execution time = 0.138167 sec\n",
            "C[0]=3 C[1]=3 C[2]=3 C[3]=3 C[4]=3 C[5]=3 C[6]=3 C[7]=3 C[8]=3 C[9]=3 "
          ]
        }
      ],
      "source": [
        "!nvcc vector_add.cu -o vector_add.out && ./vector_add.out"
      ]
    },
    {
      "cell_type": "markdown",
      "metadata": {
        "id": "n3BrZgzHHWlQ"
      },
      "source": [
        "## Matrix Multiplacation\n",
        "\n"
      ]
    },
    {
      "cell_type": "code",
      "execution_count": null,
      "metadata": {
        "colab": {
          "base_uri": "https://localhost:8080/"
        },
        "id": "bU347qasHWlQ",
        "outputId": "aa45e5a5-669d-491b-b756-aa29549c0d31"
      },
      "outputs": [
        {
          "output_type": "stream",
          "name": "stdout",
          "text": [
            "Overwriting mat_mul.cu\n"
          ]
        }
      ],
      "source": [
        "%%writefile mat_mul.cu\n",
        "#include <stdlib.h>\n",
        "#include <stdio.h>\n",
        "#include <time.h>\n",
        "\n",
        "#define n 1024\n",
        "\n",
        "// TODO: Write GPU kernel to perform matrix multiplication\n",
        "__global__ void matrix_multiply(int *A, int *B, int *C) {\n",
        "    int row = blockIdx.y * blockDim.y + threadIdx.y;\n",
        "    int col = blockIdx.x * blockDim.x + threadIdx.x;\n",
        "\n",
        "    if (row < n && col < n) {\n",
        "        int sum = 0;\n",
        "        for (int i = 0; i < n; ++i) {\n",
        "            sum += A[row * n + i] * B[i * n + col];\n",
        "        }\n",
        "        C[row * n + col] = sum;\n",
        "    }\n",
        "}\n",
        "\n",
        "int main() {\n",
        "    int i, j;\n",
        "    int *A = (int *) malloc(sizeof(int)*n*n);\n",
        "    int *B = (int *) malloc(sizeof(int)*n*n);\n",
        "    int *C = (int *) malloc(sizeof(int)*n*n);\n",
        "\n",
        "    for (i = 0; i < n; i++) {\n",
        "        for (j = 0; j < n; j++) {\n",
        "            A[i*n + j] = i;\n",
        "            B[i*n + j] = i + j;\n",
        "            C[i*n + j] = 0;\n",
        "        }\n",
        "    }\n",
        "\n",
        "    // TODO: Allocate device memory, use variable names: gpu_A, gpu_B and gpu_C\n",
        "    int *gpu_A, *gpu_B, *gpu_C;\n",
        "    cudaMalloc((void **)&gpu_A, sizeof(int) * n * n);\n",
        "    cudaMalloc((void **)&gpu_B, sizeof(int) * n * n);\n",
        "    cudaMalloc((void **)&gpu_C, sizeof(int) * n * n);\n",
        "\n",
        "\n",
        "\n",
        "    // TODO: Transfer data to device\n",
        "    cudaMemcpy(gpu_A, A, sizeof(int) * n * n, cudaMemcpyHostToDevice);\n",
        "    cudaMemcpy(gpu_B, B, sizeof(int) * n * n, cudaMemcpyHostToDevice);\n",
        "\n",
        "    // TODO: Set grid and block sizes\n",
        "    dim3 dimGrid(32, 32); // Assuming 32x32 threads per block\n",
        "    dim3 dimBlock(32, 32);\n",
        "\n",
        "    struct timespec start, stop;\n",
        "    double time;\n",
        "\n",
        "    if( clock_gettime( CLOCK_REALTIME, &start) == -1 ) { perror( \"clock gettime\" );}\n",
        "\n",
        "    // TODO: Launch kernel\n",
        "    matrix_multiply<<<dimGrid, dimBlock>>>(gpu_A, gpu_B, gpu_C);\n",
        "\n",
        "\n",
        "    // TODO: Transfer data back to host\n",
        "    cudaMemcpy(C, gpu_C, sizeof(int) * n * n, cudaMemcpyDeviceToHost);\n",
        "\n",
        "    if( clock_gettime( CLOCK_REALTIME, &stop) == -1 ) { perror( \"clock gettime\" );}\n",
        "    time = (stop.tv_sec - start.tv_sec)+ (double)(stop.tv_nsec - start.tv_nsec)/1e9;\n",
        "\n",
        "    // Print results\n",
        "    printf(\"Number of FLOPs = %llu, Execution time = %f sec,\\n%lf MFLOPs per sec\\n\",\n",
        "        2ULL * n * n * n, time, 1 / time / 1e6 * 2 * n * n * n);\n",
        "\n",
        "    printf(\"C[100][100]=%d\\n\", C[100*n + 100]);\n",
        "\n",
        "    free(A);\n",
        "    free(B);\n",
        "    free(C);\n",
        "    cudaFree(gpu_A);\n",
        "    cudaFree(gpu_B);\n",
        "    cudaFree(gpu_C);\n",
        "    return 0;\n",
        "}"
      ]
    },
    {
      "cell_type": "code",
      "execution_count": null,
      "metadata": {
        "colab": {
          "base_uri": "https://localhost:8080/"
        },
        "id": "m6Cb0sY7HWlQ",
        "outputId": "92df5722-57d9-44a4-ca7c-abd78928a68a"
      },
      "outputs": [
        {
          "output_type": "stream",
          "name": "stdout",
          "text": [
            "Number of FLOPs = 2147483648, Execution time = 0.119264 sec,\n",
            "18006.149941 MFLOPs per sec\n",
            "C[100][100]=62617600\n"
          ]
        }
      ],
      "source": [
        "!nvcc mat_mul.cu -o mat_mul.out && ./mat_mul.out"
      ]
    },
    {
      "cell_type": "markdown",
      "source": [
        "# Blocked Matrix Multiplication\n"
      ],
      "metadata": {
        "id": "jhNDXVR0RNfu"
      }
    },
    {
      "cell_type": "code",
      "execution_count": null,
      "metadata": {
        "colab": {
          "base_uri": "https://localhost:8080/"
        },
        "id": "mIaqKVjBHWlQ",
        "outputId": "114c8255-60ed-4386-f4ca-db8d27fef369"
      },
      "outputs": [
        {
          "output_type": "stream",
          "name": "stdout",
          "text": [
            "Overwriting blocked_mat_mul.cu\n"
          ]
        }
      ],
      "source": [
        "%%writefile blocked_mat_mul.cu\n",
        "#include <stdlib.h>\n",
        "#include <stdio.h>\n",
        "#include <time.h>\n",
        "\n",
        "#define n 1024\n",
        "#define block_size 32\n",
        "\n",
        "// TODO: Write GPU kernel to perform matrix multiplication\n",
        "__global__ void blocked_matrix_multiply(int *A, int *B, int *C) {\n",
        "    __shared__ int shared_A[block_size][block_size];\n",
        "    __shared__ int shared_B[block_size][block_size];\n",
        "\n",
        "    int bx = blockIdx.x;\n",
        "    int by = blockIdx.y;\n",
        "    int tx = threadIdx.x;\n",
        "    int ty = threadIdx.y;\n",
        "\n",
        "    int row = by * block_size + ty;\n",
        "    int col = bx * block_size + tx;\n",
        "\n",
        "    int sum = 0;\n",
        "    for (int m = 0; m < n / block_size; ++m) {\n",
        "        shared_A[ty][tx] = A[row * n + m * block_size + tx];\n",
        "        shared_B[ty][tx] = B[(m * block_size + ty) * n + col];\n",
        "        __syncthreads();\n",
        "\n",
        "        for (int k = 0; k < block_size; ++k) {\n",
        "            sum += shared_A[ty][k] * shared_B[k][tx];\n",
        "        }\n",
        "        __syncthreads();\n",
        "    }\n",
        "    C[row * n + col] = sum;\n",
        "}\n",
        "\n",
        "int main() {\n",
        "    int i, j;\n",
        "    int *A = (int *) malloc(sizeof(int)*n*n);\n",
        "    int *B = (int *) malloc(sizeof(int)*n*n);\n",
        "    int *C = (int *) malloc(sizeof(int)*n*n);\n",
        "\n",
        "    for (i = 0; i < n; i++) {\n",
        "        for (j = 0; j < n; j++) {\n",
        "            A[i*n + j] = i;\n",
        "            B[i*n + j] = i + j;\n",
        "            C[i*n + j] = 0;\n",
        "        }\n",
        "    }\n",
        "\n",
        "    // TODO: Allocate device memory, use variable names: gpu_A, gpu_B and gpu_C\n",
        "    int *gpu_A, *gpu_B, *gpu_C;\n",
        "    cudaMalloc((void **)&gpu_A, sizeof(int) * n * n);\n",
        "    cudaMalloc((void **)&gpu_B, sizeof(int) * n * n);\n",
        "    cudaMalloc((void **)&gpu_C, sizeof(int) * n * n);\n",
        "\n",
        "    // TODO: Transfer data to device\n",
        "    cudaMemcpy(gpu_A, A, sizeof(int) * n * n, cudaMemcpyHostToDevice);\n",
        "    cudaMemcpy(gpu_B, B, sizeof(int) * n * n, cudaMemcpyHostToDevice);\n",
        "\n",
        "\n",
        "    // TODO: Set grid and block sizes\n",
        "    dim3 dimGrid(n / block_size, n / block_size);\n",
        "    dim3 dimBlock(block_size, block_size);\n",
        "\n",
        "\n",
        "    struct timespec start, stop;\n",
        "    double time;\n",
        "\n",
        "    if( clock_gettime( CLOCK_REALTIME, &start) == -1 ) { perror( \"clock gettime\" );}\n",
        "\n",
        "    // TODO: Launch kernel\n",
        "    blocked_matrix_multiply<<<dimGrid, dimBlock>>>(gpu_A, gpu_B, gpu_C);\n",
        "\n",
        "    // TODO: Transfer data back to host\n",
        "    cudaMemcpy(C, gpu_C, sizeof(int) * n * n, cudaMemcpyDeviceToHost);\n",
        "\n",
        "    if( clock_gettime( CLOCK_REALTIME, &stop) == -1 ) { perror( \"clock gettime\" );}\n",
        "    time = (stop.tv_sec - start.tv_sec)+ (double)(stop.tv_nsec - start.tv_nsec)/1e9;\n",
        "\n",
        "    // Print results\n",
        "    printf(\"Number of FLOPs = %llu, Execution time = %f sec,\\n%lf MFLOPs per sec\\n\",\n",
        "        2ULL * n * n * n, time, 1 / time / 1e6 * 2 * n * n * n);\n",
        "\n",
        "    printf(\"C[100][100]=%d\\n\", C[100*n + 100]);\n",
        "\n",
        "    free(A);\n",
        "    free(B);\n",
        "    free(C);\n",
        "    cudaFree(gpu_A);\n",
        "    cudaFree(gpu_B);\n",
        "    cudaFree(gpu_C);\n",
        "    return 0;\n",
        "}"
      ]
    },
    {
      "cell_type": "code",
      "execution_count": null,
      "metadata": {
        "colab": {
          "base_uri": "https://localhost:8080/"
        },
        "id": "Hv3XE6xtHWlQ",
        "outputId": "229e0d0b-0733-40ee-e0ff-3a50fb432f68"
      },
      "outputs": [
        {
          "output_type": "stream",
          "name": "stdout",
          "text": [
            "Number of FLOPs = 2147483648, Execution time = 0.063321 sec,\n",
            "33914.481382 MFLOPs per sec\n",
            "C[100][100]=62617600\n"
          ]
        }
      ],
      "source": [
        "!nvcc blocked_mat_mul.cu -o blocked_mat_mul.out && ./blocked_mat_mul.out"
      ]
    }
  ],
  "metadata": {
    "accelerator": "GPU",
    "colab": {
      "gpuType": "T4",
      "provenance": []
    },
    "kernelspec": {
      "display_name": "Python 3",
      "name": "python3"
    },
    "language_info": {
      "codemirror_mode": {
        "name": "ipython",
        "version": 3
      },
      "file_extension": ".py",
      "mimetype": "text/x-python",
      "name": "python",
      "nbconvert_exporter": "python",
      "pygments_lexer": "ipython3",
      "version": "3.9.18"
    }
  },
  "nbformat": 4,
  "nbformat_minor": 0
}